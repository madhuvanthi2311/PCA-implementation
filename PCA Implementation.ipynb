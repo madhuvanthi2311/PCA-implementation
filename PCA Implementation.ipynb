{
 "cells": [
  {
   "cell_type": "code",
   "execution_count": null,
   "metadata": {
    "collapsed": true
   },
   "outputs": [],
   "source": [
    "from scipy import linalg\n",
    "\n",
    "def my_PCA(X,component=1):  # the eigenvalue solution\n",
    "    #center your data\n",
    "    X = X - X.mean(axis=0)\n",
    "    #compute covariances\n",
    "    cov = np.cov(X, rowvar = False)\n",
    "    #get eigenvalues and eigenvectors of covariance matrix\n",
    "    evals , evecs = linalg.eigh(cov) \n",
    "    #sort eigenvalues and eigenvectors by eigenvalues\n",
    "    idx = np.argsort(evals)[::-1]\n",
    "    evecs = evecs[:,idx]\n",
    "    evals = evals[idx]\n",
    "    \n",
    "    #compute new PCA transform based on which components you want\n",
    "    transformed_X = np.dot(X, evecs[component-1]) \n",
    "    \n",
    "    return evecs[component-1], transformed_X"
   ]
  }
 ],
 "metadata": {
  "kernelspec": {
   "display_name": "Python 2",
   "language": "python",
   "name": "python2"
  },
  "language_info": {
   "codemirror_mode": {
    "name": "ipython",
    "version": 2
   },
   "file_extension": ".py",
   "mimetype": "text/x-python",
   "name": "python",
   "nbconvert_exporter": "python",
   "pygments_lexer": "ipython2",
   "version": "2.7.14"
  }
 },
 "nbformat": 4,
 "nbformat_minor": 2
}
